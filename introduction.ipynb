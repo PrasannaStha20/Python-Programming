{
 "cells": [
  {
   "cell_type": "markdown",
   "metadata": {},
   "source": [
    "# PRASANNA SHRESTHA"
   ]
  },
  {
   "cell_type": "markdown",
   "metadata": {},
   "source": [
    "# First Python Program"
   ]
  },
  {
   "cell_type": "code",
   "execution_count": 4,
   "metadata": {},
   "outputs": [
    {
     "name": "stdout",
     "output_type": "stream",
     "text": [
      "hello world\n"
     ]
    }
   ],
   "source": [
    "hello = 'hello world'\n",
    "print(hello)"
   ]
  },
  {
   "cell_type": "markdown",
   "metadata": {},
   "source": [
    "# Pi"
   ]
  },
  {
   "cell_type": "markdown",
   "metadata": {},
   "source": [
    "The code sets pi to 3.14 and prints it, then shows its type as a floating-point number."
   ]
  },
  {
   "cell_type": "code",
   "execution_count": 5,
   "metadata": {},
   "outputs": [
    {
     "name": "stdout",
     "output_type": "stream",
     "text": [
      "3.14\n",
      "<class 'float'>\n"
     ]
    }
   ],
   "source": [
    "pi=3.14\n",
    "print(pi)\n",
    "print(type(pi))"
   ]
  },
  {
   "cell_type": "markdown",
   "metadata": {},
   "source": [
    "# Arithematic Operation"
   ]
  },
  {
   "cell_type": "markdown",
   "metadata": {},
   "source": [
    "This code inputs two numbers and calculates their sum, subtraction, product, division, and remainder, printing each result with a label."
   ]
  },
  {
   "cell_type": "code",
   "execution_count": 6,
   "metadata": {},
   "outputs": [
    {
     "name": "stdout",
     "output_type": "stream",
     "text": [
      "Sum: 3 Subtraction: -1 Product: 2 Division: 0.5 Remainder: 1\n"
     ]
    }
   ],
   "source": [
    "a = int(input('Enter the value of a: '))\n",
    "b = int(input('Enter the value of b: '))\n",
    "sum = a+b\n",
    "sub = a-b\n",
    "product = a*b\n",
    "division = a/b\n",
    "remainder = a%b\n",
    "print(\"Sum:\", sum, \"Subtraction:\", sub, \"Product:\", product, \"Division:\", division, \"Remainder:\", remainder)\n"
   ]
  },
  {
   "cell_type": "markdown",
   "metadata": {},
   "source": [
    "# String"
   ]
  },
  {
   "cell_type": "markdown",
   "metadata": {},
   "source": [
    "The following code stores the name as \"Prasanna Shrestha\" print it, calculates the total character count and prints the first character, first name, and last name separately after that."
   ]
  },
  {
   "cell_type": "code",
   "execution_count": 14,
   "metadata": {},
   "outputs": [
    {
     "name": "stdout",
     "output_type": "stream",
     "text": [
      "Prasanna Shrestha\n",
      "17\n",
      "P\n",
      "Prasanna\n",
      "Shrestha\n"
     ]
    }
   ],
   "source": [
    "name = 'Prasanna Shrestha'\n",
    "print(name)\n",
    "total_no_of_chars = len(name)\n",
    "print(total_no_of_chars)\n",
    "\n",
    "#We get first character\n",
    "first_char = name[0]\n",
    "print(first_char)\n",
    "#We get first and the last name\n",
    "first_name = name[0:8]\n",
    "print(first_name)\n",
    "last_name =name[9:17]\n",
    "print(last_name)"
   ]
  },
  {
   "cell_type": "markdown",
   "metadata": {},
   "source": [
    "This code stores the name \"Prakash Narayan Shrestha\", extracts his first name, middle name, and surname into separate variables, and then prints out the first name, middle name, and surname."
   ]
  },
  {
   "cell_type": "code",
   "execution_count": 30,
   "metadata": {},
   "outputs": [
    {
     "name": "stdout",
     "output_type": "stream",
     "text": [
      "Prakash Narayan Shrestha\n"
     ]
    }
   ],
   "source": [
    "name = 'Prakash Narayan Shrestha'\n",
    "f_name = name[:7]\n",
    "m_name = name[8:15]\n",
    "l_name = name[16:]\n",
    "print(f_name,m_name,last_name)"
   ]
  },
  {
   "cell_type": "markdown",
   "metadata": {},
   "source": [
    "# if/else/elif Statements"
   ]
  },
  {
   "cell_type": "markdown",
   "metadata": {},
   "source": [
    "The code inputs a number of a day and prints \"Good morning\" if the number is 1, \"Good night\" if it's 2, \"Good day\" if it's 6, and \"Bad day\" in all other cases."
   ]
  },
  {
   "cell_type": "code",
   "execution_count": 36,
   "metadata": {},
   "outputs": [
    {
     "name": "stdout",
     "output_type": "stream",
     "text": [
      "Bad day\n"
     ]
    }
   ],
   "source": [
    "day = int(input('Enter the day'))\n",
    "if day ==1:\n",
    "    print(\"Good morning\")\n",
    "elif day == 2:\n",
    "    print(\"Good night\")\n",
    "if day == 6:\n",
    "    print(\"Good day\")\n",
    "else:\n",
    "    print(\"Bad day\")"
   ]
  },
  {
   "cell_type": "markdown",
   "metadata": {},
   "source": [
    "This code asks for input from the user of any number and prints \"even\" if that number is divisible by 2 otherwise it prints \"odd\"."
   ]
  },
  {
   "cell_type": "code",
   "execution_count": 38,
   "metadata": {},
   "outputs": [
    {
     "name": "stdout",
     "output_type": "stream",
     "text": [
      "Even\n"
     ]
    }
   ],
   "source": [
    "number = int(input('Enter the number'))\n",
    "if number %2 == 0:\n",
    "    print(\"Even\")\n",
    "else:\n",
    "    print(\"Odd\")"
   ]
  },
  {
   "cell_type": "markdown",
   "metadata": {},
   "source": [
    "This code asks users for time input and prints \"Python\" if the time is between 10 and 12, \"DSA\" between 12 and 14, \"English\" between 14 and 16, and \"Getting Ready\" for any other times."
   ]
  },
  {
   "cell_type": "code",
   "execution_count": 39,
   "metadata": {},
   "outputs": [
    {
     "name": "stdout",
     "output_type": "stream",
     "text": [
      "Python\n"
     ]
    }
   ],
   "source": [
    "time = int(input('Enter the time'))\n",
    "if time >=10 and time <12:\n",
    "    print(\"Python\")\n",
    "elif time >=12 and time<14:\n",
    "    print(\"DSA\")\n",
    "elif time >= 14 and time <16:\n",
    "    print(\"English\")\n",
    "else:\n",
    "    print(\"Getting Ready\")"
   ]
  },
  {
   "cell_type": "markdown",
   "metadata": {},
   "source": [
    "The code takes an input of nationality and does an incorrect check against \"Nepalese\" or \"Indian,\" printing out a cable car price of Rs. 50 for either and Rs. 100 for any other nationality."
   ]
  },
  {
   "cell_type": "code",
   "execution_count": 2,
   "metadata": {},
   "outputs": [
    {
     "name": "stdout",
     "output_type": "stream",
     "text": [
      "The cable car price is Rs. 50\n"
     ]
    }
   ],
   "source": [
    "Nationality = str(input('Enter the nationality'))\n",
    "if Nationality.lower() == \"Nepalese\" or \"Indian\":\n",
    "    print(\"The cable car price is Rs. 50\")\n",
    "else:\n",
    "    print(\"The cable car price is Rs. 100\")"
   ]
  },
  {
   "cell_type": "markdown",
   "metadata": {},
   "source": [
    "# While Loop"
   ]
  },
  {
   "cell_type": "markdown",
   "metadata": {},
   "source": [
    "This code initializes a counter to 0 and uses a while loop to print \"Hello\" with the current value of the counter twice, incrementing the counter by 1 each time."
   ]
  },
  {
   "cell_type": "code",
   "execution_count": 47,
   "metadata": {},
   "outputs": [
    {
     "name": "stdout",
     "output_type": "stream",
     "text": [
      "Hello\n",
      "0\n",
      "Hello\n",
      "1\n"
     ]
    }
   ],
   "source": [
    "COUNTER = 0\n",
    "while COUNTER<2:\n",
    "    print(\"Hello\")\n",
    "    print(COUNTER)\n",
    "    COUNTER +=1"
   ]
  },
  {
   "cell_type": "markdown",
   "metadata": {},
   "source": [
    "This code initializes a counter with a value of 10 and uses a while loop to print \"Hello\" plus the value of a counter then decrements the counter down to 1."
   ]
  },
  {
   "cell_type": "code",
   "execution_count": 48,
   "metadata": {},
   "outputs": [
    {
     "name": "stdout",
     "output_type": "stream",
     "text": [
      "Hello\n",
      "10\n",
      "Hello\n",
      "9\n",
      "Hello\n",
      "8\n",
      "Hello\n",
      "7\n",
      "Hello\n",
      "6\n",
      "Hello\n",
      "5\n",
      "Hello\n",
      "4\n",
      "Hello\n",
      "3\n",
      "Hello\n",
      "2\n",
      "Hello\n",
      "1\n"
     ]
    }
   ],
   "source": [
    "COUNTER = 10\n",
    "while COUNTER >=1:\n",
    "    print(\"Hello\")\n",
    "    print(COUNTER)\n",
    "    COUNTER -=1"
   ]
  },
  {
   "cell_type": "markdown",
   "metadata": {},
   "source": [
    "# The sum of first 100 natural number"
   ]
  },
  {
   "cell_type": "markdown",
   "metadata": {},
   "source": [
    "It declares a counter and a sum to 0. Then it has a while loop, adding all the integers from 0 to 100 to the sum. It prints out, finally the sum in total."
   ]
  },
  {
   "cell_type": "code",
   "execution_count": 63,
   "metadata": {},
   "outputs": [
    {
     "name": "stdout",
     "output_type": "stream",
     "text": [
      "Sum of the first 100 natural numbers is: 5050\n",
      "5050\n"
     ]
    }
   ],
   "source": [
    "# Initialize variables\n",
    "n = 1\n",
    "sum_of_natural_numbers = 0\n",
    "while n <= 100:\n",
    "    sum_of_natural_numbers += n\n",
    "    n += 1\n",
    "\n",
    "\n",
    "print(\"Sum of the first 100 natural numbers is:\", sum_of_natural_numbers)\n",
    "\n",
    "n=100\n",
    "counter=0\n",
    "sum=0\n",
    "while counter <=n:\n",
    "    sum += counter\n",
    "    counter+=1\n",
    "print(sum)"
   ]
  },
  {
   "cell_type": "markdown",
   "metadata": {},
   "source": [
    "The code initializes a counter to 1 and a sum to 0, has a while loop adding all the even numbers from 1 to 100 to the sum and finally prints the total sum of those even numbers."
   ]
  },
  {
   "cell_type": "code",
   "execution_count": 64,
   "metadata": {},
   "outputs": [
    {
     "name": "stdout",
     "output_type": "stream",
     "text": [
      "2550\n"
     ]
    }
   ],
   "source": [
    "n=100\n",
    "counter=1\n",
    "sum=0\n",
    "while counter <=n:\n",
    "    if counter%2==0:\n",
    "        sum += counter\n",
    "    counter+=1\n",
    "print(sum)"
   ]
  },
  {
   "cell_type": "markdown",
   "metadata": {},
   "source": [
    "# String Reverse"
   ]
  },
  {
   "cell_type": "markdown",
   "metadata": {},
   "source": [
    "The code calculates the length of the string \"Bhaktapur.\" Then, it creates an empty string for storing the reverse of the string. Using a while loop, it forms the reverse string by taking a character from the end of \"Bhaktapur\" in every iteration and appending it to the created empty string. At last, the reversed string is printed."
   ]
  },
  {
   "cell_type": "code",
   "execution_count": 66,
   "metadata": {},
   "outputs": [
    {
     "name": "stdout",
     "output_type": "stream",
     "text": [
      "8\n",
      "rupatkahB\n"
     ]
    }
   ],
   "source": [
    "ADDRESS = \"Bhaktapur\"\n",
    "length =  len(ADDRESS)-1\n",
    "reversed_string = ''\n",
    "print(length)\n",
    "while length>=0:\n",
    "    reversed_string += ADDRESS[length]\n",
    "    length-=1\n",
    "print(reversed_string)"
   ]
  },
  {
   "cell_type": "markdown",
   "metadata": {},
   "source": [
    "# Using append and the copy comand "
   ]
  },
  {
   "cell_type": "markdown",
   "metadata": {},
   "source": [
    "The various list operations on this list of numbers are appending a value, removing elements using either index or value, accessing elements at positions, counting the total number of items, and retrieving the last element. It prints out the results after each of these operations."
   ]
  },
  {
   "cell_type": "code",
   "execution_count": 68,
   "metadata": {},
   "outputs": [
    {
     "name": "stdout",
     "output_type": "stream",
     "text": [
      "[1, 2, 3, 4, 5, 10]\n",
      "[1, 2, 3, 4, 10]\n",
      "[1, 2, 4, 10]\n",
      "1\n",
      "2\n",
      "4\n",
      "10\n"
     ]
    }
   ],
   "source": [
    "numbers = [1,2,3,4,5]\n",
    "students = ['Ram','Hari']\n",
    "\n",
    "#append used to add in the last items in the numbers\n",
    "numbers.append(10) \n",
    "print (numbers)\n",
    "\n",
    "# 4 indicates the index where pop use index to romove from numbers\n",
    "numbers.pop(4) \n",
    "print (numbers)\n",
    "\n",
    "#Remove the item from numbers\n",
    "numbers.remove (3) \n",
    "print (numbers)\n",
    "\n",
    "\n",
    "# access elements from numbers list\n",
    "first_number = numbers [0]\n",
    "print (first_number)\n",
    "second_number = numbers [1]\n",
    "print (second_number)\n",
    "# count total number of items in numbers\n",
    "total_items = len (numbers)\n",
    "print (total_items)\n",
    "# last element from the numbers \n",
    "last_element = numbers[total_items -1]\n",
    "print (last_element)"
   ]
  },
  {
   "cell_type": "markdown",
   "metadata": {},
   "source": [
    "This code initializes a list of numbers, then demonstrates the append, removal of items, inserting of a value, counting of occurrences of a certain number, extension of one list with another, and clearing of the whole list, printing results after each operation."
   ]
  },
  {
   "cell_type": "code",
   "execution_count": 72,
   "metadata": {},
   "outputs": [
    {
     "name": "stdout",
     "output_type": "stream",
     "text": [
      "[1, 4, 3, 5, 6, 7, 1, 1]\n",
      "[1, 4, 3, 5, 6, 7, 1, 1, 8]\n",
      "[1, 4, 3, 5, 6, 7, 1, 1]\n",
      "[1, 4, 3, 6, 7, 1, 1]\n",
      "3\n",
      "[1, 2, 3, 4]\n",
      "[]\n"
     ]
    }
   ],
   "source": [
    "numbers = [1,4,3,5,6,7,1,1]\n",
    "print(numbers)\n",
    "#append item\n",
    "numbers.append(8)\n",
    "print(numbers)\n",
    "# remove the last item\n",
    "numbers.pop()\n",
    "print(numbers)\n",
    "# remove\n",
    "numbers.remove(5)\n",
    "print(numbers)\n",
    "# insert\n",
    "numbers.insert(2,10)\n",
    "# count\n",
    "print(numbers.count(1))\n",
    "\n",
    "numbers_1 = [1,2]\n",
    "numbers_2 = [3,4]\n",
    "numbers_1.extend (numbers_2)\n",
    "print(numbers_1)\n",
    "#clear\n",
    "numbers_1.clear()\n",
    "print(numbers_1)"
   ]
  },
  {
   "cell_type": "markdown",
   "metadata": {},
   "source": [
    "It initializes a variable 'a' with the value 5, assigns it to 'b', increments 'a', and prints both values. Then, it creates a list of names, makes a copy of that list into 'b', appends a new name to the original list, prints the copied list, and checks if \"Ram\" exists in the original list. If it does, it prints a message to that effect."
   ]
  },
  {
   "cell_type": "code",
   "execution_count": 73,
   "metadata": {},
   "outputs": [
    {
     "name": "stdout",
     "output_type": "stream",
     "text": [
      "6 5\n",
      "['Ram', 'Hari']\n",
      "Ram exist in a\n"
     ]
    }
   ],
   "source": [
    "a = 5\n",
    "b = a\n",
    "a = a+1\n",
    "print (a,b)\n",
    "\n",
    "\n",
    "\n",
    "a = ['Ram', 'Hari']\n",
    "b = a.copy()\n",
    "a. append ('Gopal')\n",
    "print (b)\n",
    "# check value exist in list\n",
    "if 'Ram' in a:\n",
    "    print('Ram exist in a')"
   ]
  },
  {
   "cell_type": "markdown",
   "metadata": {},
   "source": [
    "# Loop through list (iterate over list)"
   ]
  },
  {
   "cell_type": "markdown",
   "metadata": {},
   "source": [
    "The code calculates the sum of all items using a while loop in a list of numbers and then prints it out. After that, it finds and prints the maximum value in that list through iteration with another while loop.\n"
   ]
  },
  {
   "cell_type": "code",
   "execution_count": null,
   "metadata": {},
   "outputs": [],
   "source": [
    "# find the sum of all items of given lists\n",
    "numbers = [1,2,3,4,5,6,6]\n",
    "total_items = len (numbers)\n",
    "index = 0\n",
    "sum = 0\n",
    "while index<total_items:\n",
    "    sum += numbers[index] \n",
    "    \n",
    "    index+=1\n",
    "print (sum)\n",
    "\n",
    "#finding the max and min value\n",
    "total_items = len (numbers)\n",
    "index = 0\n",
    "max_value = numbers[0]\n",
    "while index<total_items:\n",
    "    element = numbers[index]\n",
    "    if element > max_value:\n",
    "        max_value =element\n",
    "    index+=1\n",
    "\n",
    "print(max_value)"
   ]
  },
  {
   "cell_type": "markdown",
   "metadata": {},
   "source": [
    "# Filter values"
   ]
  },
  {
   "cell_type": "markdown",
   "metadata": {},
   "source": [
    "The code here forms a new list of students, excluding \"Ram\" from the list, then prints out this filtered list containing only \"Hari\" and \"Gopal.\""
   ]
  },
  {
   "cell_type": "code",
   "execution_count": 84,
   "metadata": {},
   "outputs": [
    {
     "name": "stdout",
     "output_type": "stream",
     "text": [
      "['Hari', 'Gopal']\n"
     ]
    }
   ],
   "source": [
    "students = ['Ram', 'Hari', 'Gopal']\n",
    "filtered_students = [student for student in students if student !='Ram']\n",
    "print(filtered_students)"
   ]
  },
  {
   "cell_type": "markdown",
   "metadata": {},
   "source": [
    "# Printing even number in the list "
   ]
  },
  {
   "cell_type": "markdown",
   "metadata": {},
   "source": [
    "The code will iterate through the given list and create a new list of even numbers from it, printing out only those even values."
   ]
  },
  {
   "cell_type": "code",
   "execution_count": 86,
   "metadata": {},
   "outputs": [
    {
     "name": "stdout",
     "output_type": "stream",
     "text": [
      "[2, 4, 6, 8, 16, 18]\n"
     ]
    }
   ],
   "source": [
    "numbers = [1,3,2,4,5,6,7,11,9,8,16,18]\n",
    "even_numbers = [number for number in numbers if number %2==0]\n",
    "print(even_numbers)"
   ]
  }
 ],
 "metadata": {
  "kernelspec": {
   "display_name": "Python 3",
   "language": "python",
   "name": "python3"
  },
  "language_info": {
   "codemirror_mode": {
    "name": "ipython",
    "version": 3
   },
   "file_extension": ".py",
   "mimetype": "text/x-python",
   "name": "python",
   "nbconvert_exporter": "python",
   "pygments_lexer": "ipython3",
   "version": "3.12.5"
  }
 },
 "nbformat": 4,
 "nbformat_minor": 2
}
