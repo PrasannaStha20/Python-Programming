{
 "cells": [
  {
   "cell_type": "markdown",
   "metadata": {},
   "source": []
  },
  {
   "cell_type": "code",
   "execution_count": 1,
   "metadata": {},
   "outputs": [
    {
     "name": "stdout",
     "output_type": "stream",
     "text": [
      "1\n",
      "1\n",
      "2\n",
      "3\n",
      "4\n",
      "5\n",
      "3\n",
      "11\n",
      "100\n"
     ]
    }
   ],
   "source": [
    "numbers = [1,1,2,3,4,5,3,11,100] #list of int\n",
    "\n",
    "even_list = []\n",
    "# literate over list\n",
    "for num in numbers:\n",
    "    print (num)\n",
    "\n"
   ]
  },
  {
   "cell_type": "code",
   "execution_count": 10,
   "metadata": {},
   "outputs": [
    {
     "name": "stdout",
     "output_type": "stream",
     "text": [
      "2\n",
      "4\n",
      "100\n",
      "[2, 4, 100]\n",
      "2 exists in numbers\n",
      "[1, 2, 3, 4, 5, 11, 100]\n"
     ]
    }
   ],
   "source": [
    "numbers = [1,1,2,3,4,5,3,11,100]\n",
    "even_list = []\n",
    "odd_list = []\n",
    "for num in numbers:\n",
    "    if num %2==0:\n",
    "        print(num)\n",
    "        even_list.append(num)\n",
    "print(even_list)\n",
    "\n",
    "if 2 in numbers: #check item exists in list \n",
    "    print ('2 exists in numbers')\n",
    "\n",
    "#create list of unique numbers from the given list \n",
    "\n",
    "unique_numbers = []\n",
    "for num in numbers:\n",
    "    if num not in unique_numbers:\n",
    "        unique_numbers.append (num)\n",
    "print (unique_numbers) # gets uniqueness in items \n",
    "\n",
    "\n"
   ]
  }
 ],
 "metadata": {
  "kernelspec": {
   "display_name": "Python 3",
   "language": "python",
   "name": "python3"
  },
  "language_info": {
   "codemirror_mode": {
    "name": "ipython",
    "version": 3
   },
   "file_extension": ".py",
   "mimetype": "text/x-python",
   "name": "python",
   "nbconvert_exporter": "python",
   "pygments_lexer": "ipython3",
   "version": "3.12.5"
  }
 },
 "nbformat": 4,
 "nbformat_minor": 2
}
